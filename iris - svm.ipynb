{
 "cells": [
  {
   "cell_type": "code",
   "execution_count": 96,
   "id": "2596d25e-fc23-49d3-ae85-4a24417e4d1d",
   "metadata": {},
   "outputs": [],
   "source": [
    "import numpy as np\n",
    "from sklearn.linear_model import LogisticRegression , LinearRegression\n",
    "import pandas as pd\n",
    "from sklearn.model_selection import train_test_split\n",
    "import matplotlib.pyplot as plt\n",
    "from sklearn.datasets import load_digits , load_iris\n",
    "import seaborn as sns\n",
    "from sklearn.metrics import accuracy_score , confusion_matrix\n",
    "from sklearn.svm import SVC"
   ]
  },
  {
   "cell_type": "code",
   "execution_count": 135,
   "id": "dce06afc-7c86-48e4-a816-9d1ef2bef45f",
   "metadata": {},
   "outputs": [
    {
     "data": {
      "text/plain": [
       "['DESCR',\n",
       " 'data',\n",
       " 'data_module',\n",
       " 'feature_names',\n",
       " 'filename',\n",
       " 'frame',\n",
       " 'target',\n",
       " 'target_names']"
      ]
     },
     "execution_count": 135,
     "metadata": {},
     "output_type": "execute_result"
    }
   ],
   "source": [
    "d = load_iris()\n",
    "dir(d)"
   ]
  },
  {
   "cell_type": "code",
   "execution_count": 141,
   "id": "464d44ba-5424-46ba-8baa-987adaa90ed0",
   "metadata": {},
   "outputs": [
    {
     "data": {
      "text/plain": [
       "(150, 4)"
      ]
     },
     "execution_count": 141,
     "metadata": {},
     "output_type": "execute_result"
    }
   ],
   "source": [
    "d.data.shape "
   ]
  },
  {
   "cell_type": "code",
   "execution_count": 142,
   "id": "e38e14fe-6ccf-4bba-b3d8-63b88bb787f5",
   "metadata": {},
   "outputs": [
    {
     "data": {
      "text/plain": [
       "['sepal length (cm)',\n",
       " 'sepal width (cm)',\n",
       " 'petal length (cm)',\n",
       " 'petal width (cm)']"
      ]
     },
     "execution_count": 142,
     "metadata": {},
     "output_type": "execute_result"
    }
   ],
   "source": [
    "d.feature_names"
   ]
  },
  {
   "cell_type": "code",
   "execution_count": 148,
   "id": "02c116c6-8039-491c-b720-8226d385a415",
   "metadata": {},
   "outputs": [
    {
     "data": {
      "text/plain": [
       "array(['setosa', 'versicolor', 'virginica'], dtype='<U10')"
      ]
     },
     "execution_count": 148,
     "metadata": {},
     "output_type": "execute_result"
    }
   ],
   "source": [
    "d.target_names"
   ]
  },
  {
   "cell_type": "code",
   "execution_count": 161,
   "id": "05525b9c-ac40-4a32-a8a5-ae1399577118",
   "metadata": {},
   "outputs": [],
   "source": [
    "dataset = pd.DataFrame(d.data , columns = d.feature_names)\n",
    "dataset['target']  = d.target \n",
    "dataset['flower_name'] =  dataset.target.apply(lambda x : d.target_names[x])"
   ]
  },
  {
   "cell_type": "code",
   "execution_count": 162,
   "id": "b82655d9-407d-4f97-bbcc-5f6efb1952d9",
   "metadata": {},
   "outputs": [
    {
     "data": {
      "text/html": [
       "<div>\n",
       "<style scoped>\n",
       "    .dataframe tbody tr th:only-of-type {\n",
       "        vertical-align: middle;\n",
       "    }\n",
       "\n",
       "    .dataframe tbody tr th {\n",
       "        vertical-align: top;\n",
       "    }\n",
       "\n",
       "    .dataframe thead th {\n",
       "        text-align: right;\n",
       "    }\n",
       "</style>\n",
       "<table border=\"1\" class=\"dataframe\">\n",
       "  <thead>\n",
       "    <tr style=\"text-align: right;\">\n",
       "      <th></th>\n",
       "      <th>sepal length (cm)</th>\n",
       "      <th>sepal width (cm)</th>\n",
       "      <th>petal length (cm)</th>\n",
       "      <th>petal width (cm)</th>\n",
       "      <th>target</th>\n",
       "      <th>flower_name</th>\n",
       "    </tr>\n",
       "  </thead>\n",
       "  <tbody>\n",
       "    <tr>\n",
       "      <th>0</th>\n",
       "      <td>5.1</td>\n",
       "      <td>3.5</td>\n",
       "      <td>1.4</td>\n",
       "      <td>0.2</td>\n",
       "      <td>0</td>\n",
       "      <td>setosa</td>\n",
       "    </tr>\n",
       "    <tr>\n",
       "      <th>1</th>\n",
       "      <td>4.9</td>\n",
       "      <td>3.0</td>\n",
       "      <td>1.4</td>\n",
       "      <td>0.2</td>\n",
       "      <td>0</td>\n",
       "      <td>setosa</td>\n",
       "    </tr>\n",
       "    <tr>\n",
       "      <th>2</th>\n",
       "      <td>4.7</td>\n",
       "      <td>3.2</td>\n",
       "      <td>1.3</td>\n",
       "      <td>0.2</td>\n",
       "      <td>0</td>\n",
       "      <td>setosa</td>\n",
       "    </tr>\n",
       "    <tr>\n",
       "      <th>3</th>\n",
       "      <td>4.6</td>\n",
       "      <td>3.1</td>\n",
       "      <td>1.5</td>\n",
       "      <td>0.2</td>\n",
       "      <td>0</td>\n",
       "      <td>setosa</td>\n",
       "    </tr>\n",
       "    <tr>\n",
       "      <th>4</th>\n",
       "      <td>5.0</td>\n",
       "      <td>3.6</td>\n",
       "      <td>1.4</td>\n",
       "      <td>0.2</td>\n",
       "      <td>0</td>\n",
       "      <td>setosa</td>\n",
       "    </tr>\n",
       "    <tr>\n",
       "      <th>...</th>\n",
       "      <td>...</td>\n",
       "      <td>...</td>\n",
       "      <td>...</td>\n",
       "      <td>...</td>\n",
       "      <td>...</td>\n",
       "      <td>...</td>\n",
       "    </tr>\n",
       "    <tr>\n",
       "      <th>145</th>\n",
       "      <td>6.7</td>\n",
       "      <td>3.0</td>\n",
       "      <td>5.2</td>\n",
       "      <td>2.3</td>\n",
       "      <td>2</td>\n",
       "      <td>virginica</td>\n",
       "    </tr>\n",
       "    <tr>\n",
       "      <th>146</th>\n",
       "      <td>6.3</td>\n",
       "      <td>2.5</td>\n",
       "      <td>5.0</td>\n",
       "      <td>1.9</td>\n",
       "      <td>2</td>\n",
       "      <td>virginica</td>\n",
       "    </tr>\n",
       "    <tr>\n",
       "      <th>147</th>\n",
       "      <td>6.5</td>\n",
       "      <td>3.0</td>\n",
       "      <td>5.2</td>\n",
       "      <td>2.0</td>\n",
       "      <td>2</td>\n",
       "      <td>virginica</td>\n",
       "    </tr>\n",
       "    <tr>\n",
       "      <th>148</th>\n",
       "      <td>6.2</td>\n",
       "      <td>3.4</td>\n",
       "      <td>5.4</td>\n",
       "      <td>2.3</td>\n",
       "      <td>2</td>\n",
       "      <td>virginica</td>\n",
       "    </tr>\n",
       "    <tr>\n",
       "      <th>149</th>\n",
       "      <td>5.9</td>\n",
       "      <td>3.0</td>\n",
       "      <td>5.1</td>\n",
       "      <td>1.8</td>\n",
       "      <td>2</td>\n",
       "      <td>virginica</td>\n",
       "    </tr>\n",
       "  </tbody>\n",
       "</table>\n",
       "<p>150 rows × 6 columns</p>\n",
       "</div>"
      ],
      "text/plain": [
       "     sepal length (cm)  sepal width (cm)  petal length (cm)  petal width (cm)  \\\n",
       "0                  5.1               3.5                1.4               0.2   \n",
       "1                  4.9               3.0                1.4               0.2   \n",
       "2                  4.7               3.2                1.3               0.2   \n",
       "3                  4.6               3.1                1.5               0.2   \n",
       "4                  5.0               3.6                1.4               0.2   \n",
       "..                 ...               ...                ...               ...   \n",
       "145                6.7               3.0                5.2               2.3   \n",
       "146                6.3               2.5                5.0               1.9   \n",
       "147                6.5               3.0                5.2               2.0   \n",
       "148                6.2               3.4                5.4               2.3   \n",
       "149                5.9               3.0                5.1               1.8   \n",
       "\n",
       "     target flower_name  \n",
       "0         0      setosa  \n",
       "1         0      setosa  \n",
       "2         0      setosa  \n",
       "3         0      setosa  \n",
       "4         0      setosa  \n",
       "..      ...         ...  \n",
       "145       2   virginica  \n",
       "146       2   virginica  \n",
       "147       2   virginica  \n",
       "148       2   virginica  \n",
       "149       2   virginica  \n",
       "\n",
       "[150 rows x 6 columns]"
      ]
     },
     "execution_count": 162,
     "metadata": {},
     "output_type": "execute_result"
    }
   ],
   "source": [
    "dataset"
   ]
  },
  {
   "cell_type": "markdown",
   "id": "8cc70192-a1d2-4395-9b12-ba8e88496504",
   "metadata": {},
   "source": [
    "**Data Exploration**"
   ]
  },
  {
   "cell_type": "code",
   "execution_count": 165,
   "id": "74608381-52e0-47d7-ba91-59083bc9dd56",
   "metadata": {},
   "outputs": [
    {
     "data": {
      "text/html": [
       "<div>\n",
       "<style scoped>\n",
       "    .dataframe tbody tr th:only-of-type {\n",
       "        vertical-align: middle;\n",
       "    }\n",
       "\n",
       "    .dataframe tbody tr th {\n",
       "        vertical-align: top;\n",
       "    }\n",
       "\n",
       "    .dataframe thead th {\n",
       "        text-align: right;\n",
       "    }\n",
       "</style>\n",
       "<table border=\"1\" class=\"dataframe\">\n",
       "  <thead>\n",
       "    <tr style=\"text-align: right;\">\n",
       "      <th></th>\n",
       "      <th>sepal length (cm)</th>\n",
       "      <th>sepal width (cm)</th>\n",
       "      <th>petal length (cm)</th>\n",
       "      <th>petal width (cm)</th>\n",
       "      <th>target</th>\n",
       "    </tr>\n",
       "    <tr>\n",
       "      <th>flower_name</th>\n",
       "      <th></th>\n",
       "      <th></th>\n",
       "      <th></th>\n",
       "      <th></th>\n",
       "      <th></th>\n",
       "    </tr>\n",
       "  </thead>\n",
       "  <tbody>\n",
       "    <tr>\n",
       "      <th>setosa</th>\n",
       "      <td>5.006</td>\n",
       "      <td>3.428</td>\n",
       "      <td>1.462</td>\n",
       "      <td>0.246</td>\n",
       "      <td>0.0</td>\n",
       "    </tr>\n",
       "    <tr>\n",
       "      <th>versicolor</th>\n",
       "      <td>5.936</td>\n",
       "      <td>2.770</td>\n",
       "      <td>4.260</td>\n",
       "      <td>1.326</td>\n",
       "      <td>1.0</td>\n",
       "    </tr>\n",
       "    <tr>\n",
       "      <th>virginica</th>\n",
       "      <td>6.588</td>\n",
       "      <td>2.974</td>\n",
       "      <td>5.552</td>\n",
       "      <td>2.026</td>\n",
       "      <td>2.0</td>\n",
       "    </tr>\n",
       "  </tbody>\n",
       "</table>\n",
       "</div>"
      ],
      "text/plain": [
       "             sepal length (cm)  sepal width (cm)  petal length (cm)  \\\n",
       "flower_name                                                           \n",
       "setosa                   5.006             3.428              1.462   \n",
       "versicolor               5.936             2.770              4.260   \n",
       "virginica                6.588             2.974              5.552   \n",
       "\n",
       "             petal width (cm)  target  \n",
       "flower_name                            \n",
       "setosa                  0.246     0.0  \n",
       "versicolor              1.326     1.0  \n",
       "virginica               2.026     2.0  "
      ]
     },
     "execution_count": 165,
     "metadata": {},
     "output_type": "execute_result"
    }
   ],
   "source": [
    "dataset.groupby('flower_name').mean()"
   ]
  },
  {
   "cell_type": "code",
   "execution_count": 169,
   "id": "52049ca9-cddf-4bf6-808c-bd78cff69918",
   "metadata": {},
   "outputs": [
    {
     "data": {
      "text/plain": [
       "<AxesSubplot:xlabel='flower_name'>"
      ]
     },
     "execution_count": 169,
     "metadata": {},
     "output_type": "execute_result"
    },
    {
     "data": {
      "image/png": "[encoded data removed]",
      "text/plain": [
       "<Figure size 432x288 with 1 Axes>"
      ]
     },
     "metadata": {
      "needs_background": "light"
     },
     "output_type": "display_data"
    }
   ],
   "source": [
    "# plt.figure(figsize=(20,10))\n",
    "dataset.drop('target' , axis =1 ).groupby('flower_name').mean().plot(kind = 'bar')"
   ]
  },
  {
   "cell_type": "code",
   "execution_count": 183,
   "id": "3f1b576e-e924-467b-a5ef-aed79d055323",
   "metadata": {},
   "outputs": [
    {
     "data": {
      "image/png": "[encoded data removed]",
      "text/plain": [
       "<Figure size 1080x576 with 1 Axes>"
      ]
     },
     "metadata": {
      "needs_background": "light"
     },
     "output_type": "display_data"
    }
   ],
   "source": [
    "setosa = dataset[dataset.target == 0]\n",
    "versicolor = dataset[dataset.target == 1]\n",
    "virginica = dataset[dataset.target == 2]\n",
    "\n",
    "plt.figure(figsize = (15,8))\n",
    "plt.scatter(setosa['sepal length (cm)'], setosa['sepal width (cm)'] , label = \"setosa\" , marker = '+')\n",
    "plt.scatter(virginica['sepal length (cm)'], virginica['sepal width (cm)'] , label = \"virginica\")\n",
    "plt.xlabel('sepal_length')\n",
    "plt.ylabel('sepal_width')\n",
    "plt.legend(prop={'size': 20})\n",
    "plt.show()"
   ]
  },
  {
   "cell_type": "code",
   "execution_count": 184,
   "id": "7611be2a-2615-4e2f-8281-3825ec4139c2",
   "metadata": {},
   "outputs": [
    {
     "data": {
      "image/png": "[encoded data removed]",
      "text/plain": [
       "<Figure size 1080x576 with 1 Axes>"
      ]
     },
     "metadata": {
      "needs_background": "light"
     },
     "output_type": "display_data"
    }
   ],
   "source": [
    "plt.figure(figsize = (15,8))\n",
    "plt.scatter(setosa['petal length (cm)'], setosa['petal width (cm)'] , label = \"setosa\" , marker = '+')\n",
    "plt.scatter(virginica['petal length (cm)'], virginica['petal width (cm)'] , label = \"virginica\")\n",
    "plt.xlabel('petal_length')\n",
    "plt.ylabel('petal_width')\n",
    "plt.legend(prop={'size': 20})\n",
    "plt.show()"
   ]
  },
  {
   "cell_type": "markdown",
   "id": "ce8be8e2-e8a3-4e4c-94b8-bd6b274dec4a",
   "metadata": {},
   "source": [
    "Versicolor vs virginica\n"
   ]
  },
  {
   "cell_type": "code",
   "execution_count": 187,
   "id": "3666d520-0e63-4b3d-bff6-ae66f5c0c9f5",
   "metadata": {},
   "outputs": [
    {
     "data": {
      "image/png": "[encoded data removed]",
      "text/plain": [
       "<Figure size 1080x576 with 1 Axes>"
      ]
     },
     "metadata": {
      "needs_background": "light"
     },
     "output_type": "display_data"
    }
   ],
   "source": [
    "plt.figure(figsize = (15,8))\n",
    "plt.scatter(versicolor['petal length (cm)'], versicolor['petal width (cm)'] , label = \"versicolor\" , marker = '+')\n",
    "plt.scatter(virginica['petal length (cm)'], virginica['petal width (cm)'] , label = \"virginica\")\n",
    "plt.xlabel('petal_length')\n",
    "plt.ylabel('petal_width')\n",
    "plt.legend(prop={'size': 20})\n",
    "plt.show()"
   ]
  },
  {
   "cell_type": "markdown",
   "id": "2dea638e-d179-460e-8ac2-8a83a071ad14",
   "metadata": {},
   "source": [
    "## Training Model\n",
    "\n"
   ]
  },
  {
   "cell_type": "code",
   "execution_count": 189,
   "id": "3a45c5c1-7c37-4bca-86b2-7ce1fdfaff2c",
   "metadata": {},
   "outputs": [],
   "source": [
    "def classify(model , X ,y):\n",
    "    xtrain , xtest , ytrain , ytest = train_test_split(X,y)\n",
    "    model.fit(xtrain , ytrain)\n",
    "    return model.score(xtest , ytest)\n",
    "\n"
   ]
  },
  {
   "cell_type": "code",
   "execution_count": 191,
   "id": "dae0d30d-3d76-4901-8240-8b5f10b7d126",
   "metadata": {},
   "outputs": [
    {
     "data": {
      "text/plain": [
       "0.9736842105263158"
      ]
     },
     "execution_count": 191,
     "metadata": {},
     "output_type": "execute_result"
    }
   ],
   "source": [
    "X = dataset.drop(['target' , 'flower_name'],axis=1)\n",
    "y = dataset.target\n",
    "\n",
    "classify(SVC() , X,y)\n"
   ]
  },
  {
   "cell_type": "markdown",
   "id": "5db3780d-ad17-4cff-8e4c-bb14c1fdae7d",
   "metadata": {},
   "source": [
    "## Tune parameters\n"
   ]
  },
  {
   "cell_type": "code",
   "execution_count": 197,
   "id": "3a5189ba-6195-4477-be40-0269cb66a7a9",
   "metadata": {},
   "outputs": [
    {
     "name": "stdout",
     "output_type": "stream",
     "text": [
      "C=1 --> , 0.9210526315789473\n",
      "C=2 --> , 0.9736842105263158\n",
      "C=3 --> , 0.9473684210526315\n",
      "C=4 --> , 0.9736842105263158\n",
      "C=5 --> , 1.0\n",
      "C=6 --> , 1.0\n",
      "C=7 --> , 0.9736842105263158\n",
      "C=8 --> , 1.0\n",
      "C=9 --> , 0.9473684210526315\n"
     ]
    }
   ],
   "source": [
    "for i in range(1,10):\n",
    "    accuracy = classify(SVC(C = i) , X,y)\n",
    "    print(f\"C={i} --> , {accuracy}\")\n"
   ]
  },
  {
   "cell_type": "code",
   "execution_count": 201,
   "id": "3035c42a-0e98-4edf-acde-180a0219dbea",
   "metadata": {},
   "outputs": [
    {
     "name": "stdout",
     "output_type": "stream",
     "text": [
      "kernel=linear --> , 1.0\n",
      "kernel=rbf --> , 0.9736842105263158\n",
      "kernel=sigmoid --> , 0.2894736842105263\n",
      "kernel=poly --> , 0.9736842105263158\n"
     ]
    }
   ],
   "source": [
    "kernels = ['linear' , 'rbf' , 'sigmoid' , 'poly']\n",
    "for i in kernels:\n",
    "    accuracy = classify(SVC(kernel = i) , X,y)\n",
    "    print(f\"kernel={i} --> , {accuracy}\")"
   ]
  },
  {
   "cell_type": "markdown",
   "id": "afb995a6-c7bb-4267-81a2-4348c3c3f5e9",
   "metadata": {},
   "source": [
    "## Evaluate model\n"
   ]
  },
  {
   "cell_type": "code",
   "execution_count": 207,
   "id": "bf056997-3113-42ad-8868-042752920334",
   "metadata": {},
   "outputs": [
    {
     "data": {
      "text/plain": [
       "<AxesSubplot:>"
      ]
     },
     "execution_count": 207,
     "metadata": {},
     "output_type": "execute_result"
    },
    {
     "data": {
      "image/png": "[encoded data removed]",
      "text/plain": [
       "<Figure size 432x288 with 2 Axes>"
      ]
     },
     "metadata": {
      "needs_background": "light"
     },
     "output_type": "display_data"
    }
   ],
   "source": [
    "pred = model.predict(xtest)\n",
    "\n",
    "sns.heatmap(confusion_matrix(ytest , pred) ,annot = True)"
   ]
  },
  {
   "cell_type": "markdown",
   "id": "1f2fb4ae-7ebe-452e-af9b-1a259f4dd6c5",
   "metadata": {},
   "source": [
    "\n",
    "## Codebasics Exerscise"
   ]
  },
  {
   "cell_type": "code",
   "execution_count": 214,
   "id": "a52e2f1d-d820-43f7-a8de-91384c852682",
   "metadata": {},
   "outputs": [
    {
     "data": {
      "text/plain": [
       "['DESCR', 'data', 'feature_names', 'frame', 'images', 'target', 'target_names']"
      ]
     },
     "execution_count": 214,
     "metadata": {},
     "output_type": "execute_result"
    }
   ],
   "source": [
    "d= load_digits()\n",
    "dir(digit_dataset)"
   ]
  },
  {
   "cell_type": "code",
   "execution_count": 220,
   "id": "b548a455-aadd-42b6-bc13-960557bacc48",
   "metadata": {},
   "outputs": [],
   "source": [
    "digits = pd.DataFrame(digit_dataset.data , digit_dataset.target)\n",
    "digits['target'] = d.target"
   ]
  },
  {
   "cell_type": "code",
   "execution_count": 227,
   "id": "3e5f74e2-7272-44b6-927a-cec4b056500b",
   "metadata": {},
   "outputs": [
    {
     "name": "stdout",
     "output_type": "stream",
     "text": [
      "kernel--> linear , accuracy is --> 0.98\n",
      "kernel--> rbf , accuracy is --> 0.9866666666666667\n",
      "kernel--> sigmoid , accuracy is --> 0.9111111111111111\n",
      "kernel--> poly , accuracy is --> 0.9844444444444445\n"
     ]
    }
   ],
   "source": [
    "X = digits.drop('target' , axis = 1)\n",
    "y = digits['target']\n",
    "\n",
    "for i in kernels:\n",
    "    acc = classify(SVC(kernel = i) , X,y)\n",
    "    print(f'kernel--> {i} , accuracy is --> {acc}')"
   ]
  },
  {
   "cell_type": "code",
   "execution_count": null,
   "id": "80ce8867-09ce-459b-81aa-f17be0f4c597",
   "metadata": {},
   "outputs": [],
   "source": []
  },
  {
   "cell_type": "code",
   "execution_count": null,
   "id": "11e89543-b37f-4502-84da-19bc09a862a4",
   "metadata": {},
   "outputs": [],
   "source": []
  },
  {
   "cell_type": "code",
   "execution_count": null,
   "id": "08dfafa3-1ac0-404c-8242-a6218f3b3842",
   "metadata": {},
   "outputs": [],
   "source": []
  }
 ],
 "metadata": {
  "kernelspec": {
   "display_name": "Python 3 (ipykernel)",
   "language": "python",
   "name": "python3"
  },
  "language_info": {
   "codemirror_mode": {
    "name": "ipython",
    "version": 3
   },
   "file_extension": ".py",
   "mimetype": "text/x-python",
   "name": "python",
   "nbconvert_exporter": "python",
   "pygments_lexer": "ipython3",
   "version": "3.9.5"
  }
 },
 "nbformat": 4,
 "nbformat_minor": 5
}
